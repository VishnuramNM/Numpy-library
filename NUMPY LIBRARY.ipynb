{
 "cells": [
  {
   "cell_type": "markdown",
   "id": "525e35da",
   "metadata": {},
   "source": [
    "# NUMPY LIBRARY"
   ]
  },
  {
   "cell_type": "markdown",
   "id": "37bcb308",
   "metadata": {},
   "source": [
    "# import numpy as np"
   ]
  },
  {
   "cell_type": "code",
   "execution_count": 1,
   "id": "72d51cf9",
   "metadata": {},
   "outputs": [],
   "source": [
    "import numpy as np"
   ]
  },
  {
   "cell_type": "markdown",
   "id": "fb907b00",
   "metadata": {},
   "source": [
    "# Checking NumPy Version"
   ]
  },
  {
   "cell_type": "code",
   "execution_count": 2,
   "id": "f3043550",
   "metadata": {},
   "outputs": [
    {
     "name": "stdout",
     "output_type": "stream",
     "text": [
      "1.23.5\n"
     ]
    }
   ],
   "source": [
    "version=np.__version__\n",
    "print(version)"
   ]
  },
  {
   "cell_type": "markdown",
   "id": "a40f0385",
   "metadata": {},
   "source": [
    "# 1. NumPy Creating Arrays"
   ]
  },
  {
   "cell_type": "code",
   "execution_count": 3,
   "id": "0eb1b661",
   "metadata": {},
   "outputs": [],
   "source": [
    "#NumPy is used to work with arrays. The array object in NumPy is called ndarray.\n",
    "#We can create a NumPy ndarray object by using the array() function."
   ]
  },
  {
   "cell_type": "markdown",
   "id": "5e41cb03",
   "metadata": {},
   "source": [
    "#Dimensions in Arrays :A dimension in arrays is one level of array depth (nested arrays).\n",
    "\n",
    "nested array:  are arrays that have arrays as their elements."
   ]
  },
  {
   "cell_type": "markdown",
   "id": "4570d5d9",
   "metadata": {},
   "source": [
    "# 0-D Arrays"
   ]
  },
  {
   "cell_type": "code",
   "execution_count": 4,
   "id": "ae14ab29",
   "metadata": {},
   "outputs": [
    {
     "name": "stdout",
     "output_type": "stream",
     "text": [
      "42\n"
     ]
    }
   ],
   "source": [
    "arr=np.array(42)\n",
    "print(arr)"
   ]
  },
  {
   "cell_type": "markdown",
   "id": "80b02588",
   "metadata": {},
   "source": [
    "# 1-D Arrays"
   ]
  },
  {
   "cell_type": "code",
   "execution_count": 5,
   "id": "6d1ebdc8",
   "metadata": {},
   "outputs": [
    {
     "name": "stdout",
     "output_type": "stream",
     "text": [
      "[1 2 3]\n"
     ]
    }
   ],
   "source": [
    "arr=np.array([1,2,3])\n",
    "print(arr)"
   ]
  },
  {
   "cell_type": "markdown",
   "id": "68b54d08",
   "metadata": {},
   "source": [
    "# 2-D Arrays"
   ]
  },
  {
   "cell_type": "code",
   "execution_count": 6,
   "id": "a91e8085",
   "metadata": {},
   "outputs": [
    {
     "name": "stdout",
     "output_type": "stream",
     "text": [
      "[[1 2 3]\n",
      " [5 6 7]]\n"
     ]
    }
   ],
   "source": [
    "arr=np.array([[1,2,3],[5,6,7]])\n",
    "print(arr)"
   ]
  },
  {
   "cell_type": "markdown",
   "id": "ce0ad754",
   "metadata": {},
   "source": [
    "# 3-D Arrays"
   ]
  },
  {
   "cell_type": "code",
   "execution_count": 7,
   "id": "6d874ad3",
   "metadata": {},
   "outputs": [
    {
     "name": "stdout",
     "output_type": "stream",
     "text": [
      "[[[ 1  2  3]\n",
      "  [ 4  6  7]]\n",
      "\n",
      " [[ 1 11 12]\n",
      "  [13 14 15]]]\n"
     ]
    }
   ],
   "source": [
    "arr=np.array([[[1,2,3],[4,6,7]],[[1,11,12],[13,14,15]]])\n",
    "print(arr)"
   ]
  },
  {
   "cell_type": "markdown",
   "id": "1eb2bfb8",
   "metadata": {},
   "source": [
    "# 2.Check Number of Dimensions?ndim"
   ]
  },
  {
   "cell_type": "code",
   "execution_count": 8,
   "id": "71ef8a3c",
   "metadata": {},
   "outputs": [
    {
     "name": "stdout",
     "output_type": "stream",
     "text": [
      "0\n",
      "1\n",
      "2\n",
      "3\n"
     ]
    }
   ],
   "source": [
    "a=np.array(42)\n",
    "b=np.array([1,2,3])\n",
    "c=np.array([[1,2,3],[5,6,7]])\n",
    "d=np.array([[[1,2,3],[4,6,7]],[[1,11,12],[13,14,15]]])\n",
    "print(a.ndim)\n",
    "print(b.ndim)\n",
    "print(c.ndim)\n",
    "print(d.ndim)"
   ]
  },
  {
   "cell_type": "markdown",
   "id": "420a2970",
   "metadata": {},
   "source": [
    "# 3.Higher Dimensional Arrays,ndmin\n"
   ]
  },
  {
   "cell_type": "code",
   "execution_count": 9,
   "id": "06c1475b",
   "metadata": {},
   "outputs": [
    {
     "name": "stdout",
     "output_type": "stream",
     "text": [
      "[[[[[1 2 3]]]]]\n"
     ]
    }
   ],
   "source": [
    "b=np.array([1,2,3],ndmin=5)\n",
    "print(b)\n",
    "           "
   ]
  },
  {
   "cell_type": "code",
   "execution_count": 10,
   "id": "ef1eaed9",
   "metadata": {},
   "outputs": [
    {
     "name": "stdout",
     "output_type": "stream",
     "text": [
      "5\n"
     ]
    }
   ],
   "source": [
    "print(b.ndim)"
   ]
  },
  {
   "cell_type": "markdown",
   "id": "41219fe4",
   "metadata": {},
   "source": [
    "# 4.Array indexing(acces array elements)"
   ]
  },
  {
   "cell_type": "markdown",
   "id": "d80f90c2",
   "metadata": {},
   "source": [
    "# 1d array"
   ]
  },
  {
   "cell_type": "code",
   "execution_count": 11,
   "id": "31a2dfed",
   "metadata": {},
   "outputs": [
    {
     "name": "stdout",
     "output_type": "stream",
     "text": [
      "1\n"
     ]
    }
   ],
   "source": [
    "import numpy as np\n",
    "arr=np.array([1,2,3])\n",
    "print(arr[0])# to get first elemnt in 1d array"
   ]
  },
  {
   "cell_type": "code",
   "execution_count": 12,
   "id": "281c8fc0",
   "metadata": {},
   "outputs": [
    {
     "name": "stdout",
     "output_type": "stream",
     "text": [
      "2\n"
     ]
    }
   ],
   "source": [
    "print(arr[1])# to get second elemnt in 1d array"
   ]
  },
  {
   "cell_type": "code",
   "execution_count": 13,
   "id": "f7371199",
   "metadata": {},
   "outputs": [
    {
     "name": "stdout",
     "output_type": "stream",
     "text": [
      "3\n"
     ]
    }
   ],
   "source": [
    "print(arr[-1])# to get last elemnt in 1d array"
   ]
  },
  {
   "cell_type": "code",
   "execution_count": 14,
   "id": "592a3ca8",
   "metadata": {},
   "outputs": [
    {
     "name": "stdout",
     "output_type": "stream",
     "text": [
      "5\n"
     ]
    }
   ],
   "source": [
    "print(arr[1]+arr[2])"
   ]
  },
  {
   "cell_type": "code",
   "execution_count": 15,
   "id": "78161187",
   "metadata": {},
   "outputs": [],
   "source": [
    "#0-first,1-second,....-1 last,-2 second last"
   ]
  },
  {
   "cell_type": "markdown",
   "id": "0b92a0a5",
   "metadata": {},
   "source": [
    "# 2d array"
   ]
  },
  {
   "cell_type": "code",
   "execution_count": 16,
   "id": "59c1aacc",
   "metadata": {
    "scrolled": true
   },
   "outputs": [
    {
     "name": "stdout",
     "output_type": "stream",
     "text": [
      "[[1 2 3]\n",
      " [4 5 6]]\n"
     ]
    }
   ],
   "source": [
    "arr2=np.array([[1,2,3],[4,5,6]])\n",
    "print(arr2)#2*3 matrix"
   ]
  },
  {
   "cell_type": "code",
   "execution_count": 17,
   "id": "03bc2069",
   "metadata": {},
   "outputs": [
    {
     "name": "stdout",
     "output_type": "stream",
     "text": [
      "[1 2 3]\n"
     ]
    }
   ],
   "source": [
    "print(arr2[0])# first element"
   ]
  },
  {
   "cell_type": "code",
   "execution_count": 18,
   "id": "2f4087e9",
   "metadata": {},
   "outputs": [
    {
     "name": "stdout",
     "output_type": "stream",
     "text": [
      "[4 5 6]\n"
     ]
    }
   ],
   "source": [
    "print(arr2[1])# second  element"
   ]
  },
  {
   "cell_type": "code",
   "execution_count": 19,
   "id": "3fbebd39",
   "metadata": {},
   "outputs": [
    {
     "name": "stdout",
     "output_type": "stream",
     "text": [
      "second element on first row 2\n"
     ]
    }
   ],
   "source": [
    "print('second element on first row',arr2[0,1])#0-row,1-column"
   ]
  },
  {
   "cell_type": "code",
   "execution_count": 20,
   "id": "14db378b",
   "metadata": {},
   "outputs": [
    {
     "name": "stdout",
     "output_type": "stream",
     "text": [
      "third element on second row 4\n"
     ]
    }
   ],
   "source": [
    "arr2=np.array([[1,2,3,5,6],[6,2,4,5,6]])\n",
    "print('third element on second row',arr2[1,2])"
   ]
  },
  {
   "cell_type": "code",
   "execution_count": 21,
   "id": "77fcee8e",
   "metadata": {
    "scrolled": true
   },
   "outputs": [
    {
     "name": "stdout",
     "output_type": "stream",
     "text": [
      "1\n"
     ]
    }
   ],
   "source": [
    "arr2=np.array([[1,2,3],[4,5,6]])\n",
    "print(arr2[0,0])# 11 nu pakaram 00 first row first column"
   ]
  },
  {
   "cell_type": "code",
   "execution_count": 22,
   "id": "94ef18af",
   "metadata": {},
   "outputs": [
    {
     "name": "stdout",
     "output_type": "stream",
     "text": [
      "6\n"
     ]
    }
   ],
   "source": [
    "arr2=np.array([[1,2,3],[4,5,6]])\n",
    "print(arr2[1,-1])# second row last column"
   ]
  },
  {
   "cell_type": "markdown",
   "id": "8c386b12",
   "metadata": {},
   "source": [
    "# 3d array"
   ]
  },
  {
   "cell_type": "code",
   "execution_count": 23,
   "id": "296ce440",
   "metadata": {},
   "outputs": [
    {
     "name": "stdout",
     "output_type": "stream",
     "text": [
      "[[[1 2 3]\n",
      "  [4 5 6]]\n",
      "\n",
      " [[6 2 3]\n",
      "  [4 5 6]]]\n"
     ]
    }
   ],
   "source": [
    "arr3=np.array([[[1,2,3],[4,5,6]], [[6,2,3],[4,5,6]]])\n",
    "print(arr3)"
   ]
  },
  {
   "cell_type": "code",
   "execution_count": 24,
   "id": "c1dc2c81",
   "metadata": {},
   "outputs": [
    {
     "name": "stdout",
     "output_type": "stream",
     "text": [
      "6\n"
     ]
    }
   ],
   "source": [
    "print(arr3[0,1,2])#Access the third element of the second array of the first array:"
   ]
  },
  {
   "cell_type": "markdown",
   "id": "ce256587",
   "metadata": {},
   "source": [
    "# 5. slicing array"
   ]
  },
  {
   "cell_type": "markdown",
   "id": "cb53a231",
   "metadata": {},
   "source": [
    "# 1d array"
   ]
  },
  {
   "cell_type": "code",
   "execution_count": 25,
   "id": "c24d62eb",
   "metadata": {},
   "outputs": [
    {
     "name": "stdout",
     "output_type": "stream",
     "text": [
      "[ 1  2  3  4  5  6  7  8  9 10]\n"
     ]
    }
   ],
   "source": [
    "arr1=np.array([1,2,3,4,5,6,7,8,9,10])\n",
    "print(arr1)"
   ]
  },
  {
   "cell_type": "code",
   "execution_count": 26,
   "id": "fb38dbcf",
   "metadata": {
    "scrolled": true
   },
   "outputs": [
    {
     "name": "stdout",
     "output_type": "stream",
     "text": [
      "[2 3]\n"
     ]
    }
   ],
   "source": [
    "print(arr1[1:3])# 1 included 3 excludes"
   ]
  },
  {
   "cell_type": "code",
   "execution_count": 27,
   "id": "a8597c21",
   "metadata": {},
   "outputs": [
    {
     "name": "stdout",
     "output_type": "stream",
     "text": [
      "[1 2 3]\n"
     ]
    }
   ],
   "source": [
    "print(arr1[:3])"
   ]
  },
  {
   "cell_type": "code",
   "execution_count": 28,
   "id": "210e0207",
   "metadata": {},
   "outputs": [
    {
     "name": "stdout",
     "output_type": "stream",
     "text": [
      "[ 2  3  4  5  6  7  8  9 10]\n"
     ]
    }
   ],
   "source": [
    "print(arr1[1:])"
   ]
  },
  {
   "cell_type": "code",
   "execution_count": 29,
   "id": "66fa6359",
   "metadata": {},
   "outputs": [
    {
     "name": "stdout",
     "output_type": "stream",
     "text": [
      "[8 9]\n"
     ]
    }
   ],
   "source": [
    "print(arr1[-3:-1])# -1 excluded"
   ]
  },
  {
   "cell_type": "code",
   "execution_count": 30,
   "id": "43dbd72f",
   "metadata": {},
   "outputs": [
    {
     "name": "stdout",
     "output_type": "stream",
     "text": [
      "[2]\n"
     ]
    }
   ],
   "source": [
    "print(arr1[1:3:2])# 2 is the step size ,if there is no step by default is 1"
   ]
  },
  {
   "cell_type": "code",
   "execution_count": 31,
   "id": "56f91c46",
   "metadata": {},
   "outputs": [
    {
     "name": "stdout",
     "output_type": "stream",
     "text": [
      "[2 4 6 8]\n"
     ]
    }
   ],
   "source": [
    "print(arr1[1:8:2])# step 2 means difference 2"
   ]
  },
  {
   "cell_type": "markdown",
   "id": "54dc4f17",
   "metadata": {},
   "source": [
    "# 2d array"
   ]
  },
  {
   "cell_type": "code",
   "execution_count": 32,
   "id": "36eded11",
   "metadata": {},
   "outputs": [
    {
     "name": "stdout",
     "output_type": "stream",
     "text": [
      "[[1 2 3]\n",
      " [4 5 6]\n",
      " [3 4 5]\n",
      " [9 1 6]]\n"
     ]
    }
   ],
   "source": [
    "arr2=np.array([[1,2,3],[4,5,6],[3,4,5],[9,1,6]])\n",
    "print(arr2)"
   ]
  },
  {
   "cell_type": "code",
   "execution_count": 33,
   "id": "513e4b9f",
   "metadata": {
    "scrolled": true
   },
   "outputs": [
    {
     "name": "stdout",
     "output_type": "stream",
     "text": [
      "[4 5]\n"
     ]
    }
   ],
   "source": [
    "print(arr2[1,0:2])# 1 means 2nd row(second element), 0:2 means [first,second]"
   ]
  },
  {
   "cell_type": "code",
   "execution_count": 34,
   "id": "7acd4aea",
   "metadata": {},
   "outputs": [],
   "source": [
    "# From the second element, slice elements from index 1 to index 4 (not included)"
   ]
  },
  {
   "cell_type": "code",
   "execution_count": 35,
   "id": "cac1a780",
   "metadata": {},
   "outputs": [
    {
     "name": "stdout",
     "output_type": "stream",
     "text": [
      "[2 5]\n"
     ]
    }
   ],
   "source": [
    "print(arr2[0:2,1]) # second column 0,1 elents"
   ]
  },
  {
   "cell_type": "code",
   "execution_count": 36,
   "id": "3ef797e3",
   "metadata": {},
   "outputs": [
    {
     "name": "stdout",
     "output_type": "stream",
     "text": [
      "[6 5]\n"
     ]
    }
   ],
   "source": [
    "print(arr2[1:3,2])# third column 1,2 elements"
   ]
  },
  {
   "cell_type": "code",
   "execution_count": 37,
   "id": "0e28be6d",
   "metadata": {},
   "outputs": [
    {
     "name": "stdout",
     "output_type": "stream",
     "text": [
      "[[4 5]\n",
      " [3 4]]\n"
     ]
    }
   ],
   "source": [
    "print(arr2[1:3,0:2]) # row 2 ,3  and column 1,2"
   ]
  },
  {
   "cell_type": "code",
   "execution_count": 38,
   "id": "906f9716",
   "metadata": {},
   "outputs": [
    {
     "name": "stdout",
     "output_type": "stream",
     "text": [
      "[[4 5]\n",
      " [1 6]]\n"
     ]
    }
   ],
   "source": [
    "print(arr2[2:,1:])"
   ]
  },
  {
   "cell_type": "markdown",
   "id": "e53d9cf2",
   "metadata": {},
   "source": [
    "# 6. datatypes in numpy"
   ]
  },
  {
   "cell_type": "code",
   "execution_count": 39,
   "id": "2197692e",
   "metadata": {},
   "outputs": [],
   "source": [
    "# i - integer\n",
    "# b - boolean\n",
    "# u - unsigned integer\n",
    "# f - float\n",
    "# c - complex float\n",
    "# m - timedelta\n",
    "# M - datetime\n",
    "# O - object\n",
    "# S - string\n",
    "# U - unicode string\n",
    "# V - fixed chunk of memory for other type ( void )"
   ]
  },
  {
   "cell_type": "markdown",
   "id": "cfcdaf5d",
   "metadata": {},
   "source": [
    "# Checking the Data Type of an Array- dtype"
   ]
  },
  {
   "cell_type": "code",
   "execution_count": 40,
   "id": "8ee482fb",
   "metadata": {},
   "outputs": [
    {
     "name": "stdout",
     "output_type": "stream",
     "text": [
      "int32\n"
     ]
    }
   ],
   "source": [
    "arr=np.array([1,2,3,4,5,6,7,8,9,10])\n",
    "print(arr.dtype)"
   ]
  },
  {
   "cell_type": "code",
   "execution_count": 41,
   "id": "4d0f0e6d",
   "metadata": {},
   "outputs": [
    {
     "name": "stdout",
     "output_type": "stream",
     "text": [
      "<U6\n"
     ]
    }
   ],
   "source": [
    "arr=np.array(['banana','mango','apple'])\n",
    "print(arr.dtype)"
   ]
  },
  {
   "cell_type": "markdown",
   "id": "f522f2ef",
   "metadata": {},
   "source": [
    "# Creating Arrays With a Defined Data Type(chnging datatype)"
   ]
  },
  {
   "cell_type": "code",
   "execution_count": 42,
   "id": "9a73bed2",
   "metadata": {},
   "outputs": [
    {
     "name": "stdout",
     "output_type": "stream",
     "text": [
      "|S2\n"
     ]
    }
   ],
   "source": [
    "arr=np.array([1,2,3,4,5,6,7,8,9,10],dtype='S')\n",
    "print(arr.dtype)"
   ]
  },
  {
   "cell_type": "code",
   "execution_count": 43,
   "id": "ebc61b94",
   "metadata": {},
   "outputs": [
    {
     "name": "stdout",
     "output_type": "stream",
     "text": [
      "[b'1' b'2' b'3' b'4' b'5' b'6' b'7' b'8' b'9' b'10']\n"
     ]
    }
   ],
   "source": [
    "print(arr)"
   ]
  },
  {
   "cell_type": "code",
   "execution_count": 44,
   "id": "b2c7acc3",
   "metadata": {},
   "outputs": [
    {
     "name": "stdout",
     "output_type": "stream",
     "text": [
      "int32\n"
     ]
    }
   ],
   "source": [
    "arr=np.array([1,2,3,4,5,6,7,8,9,10],dtype='i4')# i is integer 4 is size 4 bytes\n",
    "print(arr.dtype)"
   ]
  },
  {
   "cell_type": "markdown",
   "id": "4f832cb9",
   "metadata": {},
   "source": [
    "# Converting Data Type on Existing Arrays- astype"
   ]
  },
  {
   "cell_type": "code",
   "execution_count": 45,
   "id": "a4c82b71",
   "metadata": {},
   "outputs": [
    {
     "name": "stdout",
     "output_type": "stream",
     "text": [
      "[1 2 3]\n",
      "int32\n"
     ]
    }
   ],
   "source": [
    "arr = np.array([1.1, 2.1, 3.1])\n",
    "newarr = arr.astype('i')\n",
    "print(newarr)\n",
    "print(newarr.dtype)"
   ]
  },
  {
   "cell_type": "code",
   "execution_count": 46,
   "id": "85e2e89a",
   "metadata": {},
   "outputs": [
    {
     "name": "stdout",
     "output_type": "stream",
     "text": [
      "[1 2 3]\n",
      "int32\n"
     ]
    }
   ],
   "source": [
    "arr = np.array([1.1, 2.1, 3.1])\n",
    "newarr = arr.astype(int)\n",
    "\n",
    "print(newarr)\n",
    "print(newarr.dtype)"
   ]
  },
  {
   "cell_type": "code",
   "execution_count": 47,
   "id": "3709f459",
   "metadata": {},
   "outputs": [
    {
     "name": "stdout",
     "output_type": "stream",
     "text": [
      "[ True False  True]\n",
      "bool\n"
     ]
    }
   ],
   "source": [
    "arr = np.array([1, 0, 3])\n",
    "newarr = arr.astype(bool)\n",
    "print(newarr)\n",
    "print(newarr.dtype)"
   ]
  },
  {
   "cell_type": "markdown",
   "id": "8ab09208",
   "metadata": {},
   "source": [
    "# 7.copy"
   ]
  },
  {
   "cell_type": "code",
   "execution_count": 48,
   "id": "aa8d404e",
   "metadata": {},
   "outputs": [
    {
     "name": "stdout",
     "output_type": "stream",
     "text": [
      "[25  2  3  4]\n",
      "[1 2 3 4]\n"
     ]
    }
   ],
   "source": [
    "arr=np.array([1,2,3,4])\n",
    "x=arr.copy()\n",
    "arr[0]=25# changing the first element\n",
    "print(arr)\n",
    "print(x)"
   ]
  },
  {
   "cell_type": "code",
   "execution_count": 49,
   "id": "639251e0",
   "metadata": {},
   "outputs": [],
   "source": [
    "# The copy SHOULD NOT be affected by the changes made to the original array"
   ]
  },
  {
   "cell_type": "markdown",
   "id": "271fa8d2",
   "metadata": {},
   "source": [
    "# 8. view"
   ]
  },
  {
   "cell_type": "code",
   "execution_count": 50,
   "id": "7ff0e832",
   "metadata": {},
   "outputs": [
    {
     "name": "stdout",
     "output_type": "stream",
     "text": [
      "[25  2  3  4]\n",
      "[25  2  3  4]\n"
     ]
    }
   ],
   "source": [
    "arr=np.array([1,2,3,4])\n",
    "x=arr.view()\n",
    "arr[0]=25# changing the first element\n",
    "print(arr)\n",
    "print(x)"
   ]
  },
  {
   "cell_type": "code",
   "execution_count": 51,
   "id": "d6156229",
   "metadata": {},
   "outputs": [],
   "source": [
    "#The view SHOULD be affected by the changes made to the original array."
   ]
  },
  {
   "cell_type": "code",
   "execution_count": 52,
   "id": "5f348603",
   "metadata": {},
   "outputs": [
    {
     "name": "stdout",
     "output_type": "stream",
     "text": [
      "None\n",
      "[1 2 3 4 5]\n"
     ]
    }
   ],
   "source": [
    "arr = np.array([1, 2, 3, 4, 5])\n",
    "\n",
    "x = arr.copy()\n",
    "y = arr.view()\n",
    "\n",
    "print(x.base)\n",
    "print(y.base)"
   ]
  },
  {
   "cell_type": "markdown",
   "id": "9573e17e",
   "metadata": {},
   "source": [
    "# 9.shape of the array"
   ]
  },
  {
   "cell_type": "code",
   "execution_count": 53,
   "id": "98f04bf4",
   "metadata": {},
   "outputs": [],
   "source": [
    "#The shape of an array is the number of elements in each dimension.\n",
    "\n"
   ]
  },
  {
   "cell_type": "markdown",
   "id": "5072688e",
   "metadata": {},
   "source": [
    "# Get the Shape of an Array-shape"
   ]
  },
  {
   "cell_type": "code",
   "execution_count": 54,
   "id": "8e7da831",
   "metadata": {},
   "outputs": [
    {
     "name": "stdout",
     "output_type": "stream",
     "text": [
      "(5,)\n"
     ]
    }
   ],
   "source": [
    "arr = np.array([1, 2, 3, 4, 5])\n",
    "print(arr.shape)# total 5 rows five elements"
   ]
  },
  {
   "cell_type": "code",
   "execution_count": 55,
   "id": "da786229",
   "metadata": {},
   "outputs": [
    {
     "name": "stdout",
     "output_type": "stream",
     "text": [
      "(4, 3)\n"
     ]
    }
   ],
   "source": [
    "arr2=np.array([[1,2,3],[4,5,6],[3,4,5],[9,1,6]])\n",
    "print(arr2.shape)# 4 rows 3 columns, 4 elements consist 3 elements in each "
   ]
  },
  {
   "cell_type": "code",
   "execution_count": 56,
   "id": "69157f63",
   "metadata": {},
   "outputs": [
    {
     "name": "stdout",
     "output_type": "stream",
     "text": [
      "(2, 2, 3)\n"
     ]
    }
   ],
   "source": [
    "arr3=np.array([[[1,2,3],[4,5,6]], [[6,2,3],[4,5,6]]])\n",
    "print(arr3.shape)# 2 3d elements,2 2d elements , 3 1d elements"
   ]
  },
  {
   "cell_type": "code",
   "execution_count": 57,
   "id": "a3886bf9",
   "metadata": {},
   "outputs": [
    {
     "name": "stdout",
     "output_type": "stream",
     "text": [
      "(1, 1, 1, 1, 3)\n"
     ]
    }
   ],
   "source": [
    "b=np.array([1,2,3],ndmin=5)\n",
    "print(b.shape)"
   ]
  },
  {
   "cell_type": "markdown",
   "id": "09323156",
   "metadata": {},
   "source": [
    "# 10.Reshape "
   ]
  },
  {
   "cell_type": "markdown",
   "id": "5a57a235",
   "metadata": {},
   "source": [
    "# From 1-D to 2-D- reshape"
   ]
  },
  {
   "cell_type": "code",
   "execution_count": 58,
   "id": "1aaf78b2",
   "metadata": {},
   "outputs": [
    {
     "name": "stdout",
     "output_type": "stream",
     "text": [
      "[[1 2]\n",
      " [3 4]\n",
      " [5 6]]\n"
     ]
    }
   ],
   "source": [
    "arr = np.array([1, 2, 3, 4, 5,6])\n",
    "nwarr=arr.reshape(3,2)# 2 element ulla 3 ennam ,reshape(no.of elements in 2d,no.of elements in 1d)\n",
    "print(nwarr)"
   ]
  },
  {
   "cell_type": "markdown",
   "id": "fc695c0d",
   "metadata": {},
   "source": [
    "# From 1-D to 3-D- reshape"
   ]
  },
  {
   "cell_type": "code",
   "execution_count": 59,
   "id": "f5922686",
   "metadata": {},
   "outputs": [
    {
     "name": "stdout",
     "output_type": "stream",
     "text": [
      "[[[ 1  2]\n",
      "  [ 3  4]\n",
      "  [ 5  6]]\n",
      "\n",
      " [[ 7  8]\n",
      "  [ 9 10]\n",
      "  [11 12]]]\n"
     ]
    }
   ],
   "source": [
    "arr = np.array([1, 2, 3, 4, 5,6,7,8,9,10,11,12])\n",
    "nwarr=arr.reshape(2,3,2)# 3d 2 elements ,2d 3 elements ,1d 2 elements\n",
    "print(nwarr)"
   ]
  },
  {
   "cell_type": "code",
   "execution_count": 60,
   "id": "ddf73451",
   "metadata": {},
   "outputs": [
    {
     "name": "stdout",
     "output_type": "stream",
     "text": [
      "[1 2 3 4 5 6 7 8]\n"
     ]
    }
   ],
   "source": [
    "arr = np.array([1, 2, 3, 4, 5, 6, 7, 8])\n",
    "print(arr.reshape(2, 4).base)"
   ]
  },
  {
   "cell_type": "code",
   "execution_count": 61,
   "id": "1c9b5ac2",
   "metadata": {},
   "outputs": [],
   "source": [
    "# The example above returns the original array, so it is a view.not copy\n",
    "\n"
   ]
  },
  {
   "cell_type": "markdown",
   "id": "26048bce",
   "metadata": {},
   "source": [
    "# multidimensional array into a 1D array.-reshape(-1)"
   ]
  },
  {
   "cell_type": "code",
   "execution_count": 62,
   "id": "c0cf56f1",
   "metadata": {},
   "outputs": [
    {
     "name": "stdout",
     "output_type": "stream",
     "text": [
      "[1 2 3 4 5 6 6 2 3 4 5 6]\n"
     ]
    }
   ],
   "source": [
    "arr3=np.array([[[1,2,3],[4,5,6]], [[6,2,3],[4,5,6]]])\n",
    "print(arr3.reshape(-1))"
   ]
  },
  {
   "cell_type": "markdown",
   "id": "67f9e013",
   "metadata": {},
   "source": [
    "# 11.Iterating Arrays"
   ]
  },
  {
   "cell_type": "code",
   "execution_count": 63,
   "id": "8e564b96",
   "metadata": {},
   "outputs": [],
   "source": [
    "# Iterating means going through elements one by one.,for loop"
   ]
  },
  {
   "cell_type": "markdown",
   "id": "e890ba08",
   "metadata": {},
   "source": [
    "# 1d array"
   ]
  },
  {
   "cell_type": "code",
   "execution_count": 64,
   "id": "27f84956",
   "metadata": {},
   "outputs": [
    {
     "name": "stdout",
     "output_type": "stream",
     "text": [
      "1\n",
      "2\n",
      "3\n",
      "4\n",
      "5\n",
      "6\n",
      "7\n",
      "8\n"
     ]
    }
   ],
   "source": [
    "arr = np.array([1, 2, 3, 4, 5, 6, 7, 8])\n",
    "for i in arr:\n",
    "    print(i)"
   ]
  },
  {
   "cell_type": "markdown",
   "id": "56c247c8",
   "metadata": {},
   "source": [
    "# 2d array"
   ]
  },
  {
   "cell_type": "code",
   "execution_count": 65,
   "id": "5f9875d9",
   "metadata": {
    "scrolled": true
   },
   "outputs": [
    {
     "name": "stdout",
     "output_type": "stream",
     "text": [
      "[1 2 3]\n",
      "[5 6 7]\n"
     ]
    }
   ],
   "source": [
    "arr2=np.array([[1,2,3],[5,6,7]])\n",
    "for i in arr2:\n",
    "    print(i)"
   ]
  },
  {
   "cell_type": "markdown",
   "id": "838f5a1c",
   "metadata": {},
   "source": [
    "#Iterate on each scalar element of the 2-D array:"
   ]
  },
  {
   "cell_type": "code",
   "execution_count": 66,
   "id": "10e0c48b",
   "metadata": {},
   "outputs": [
    {
     "name": "stdout",
     "output_type": "stream",
     "text": [
      "1\n",
      "2\n",
      "3\n",
      "5\n",
      "6\n",
      "7\n"
     ]
    }
   ],
   "source": [
    "arr2=np.array([[1,2,3],[5,6,7]])\n",
    "for x in arr2:\n",
    "    for y in x:\n",
    "        print(y)\n",
    "    "
   ]
  },
  {
   "cell_type": "markdown",
   "id": "e7369bc9",
   "metadata": {},
   "source": [
    "# 3d array"
   ]
  },
  {
   "cell_type": "code",
   "execution_count": 67,
   "id": "221e8973",
   "metadata": {},
   "outputs": [
    {
     "name": "stdout",
     "output_type": "stream",
     "text": [
      "[[1 2 3]\n",
      " [4 5 6]]\n",
      "[[ 7  8  9]\n",
      " [10 11 12]]\n"
     ]
    }
   ],
   "source": [
    "arr3 = np.array([[[1, 2, 3], [4, 5, 6]], [[7, 8, 9], [10, 11, 12]]])\n",
    "for i in arr3:\n",
    "    print(i)"
   ]
  },
  {
   "cell_type": "code",
   "execution_count": 68,
   "id": "142e5aad",
   "metadata": {},
   "outputs": [],
   "source": [
    "#Iterate down to the scalars:"
   ]
  },
  {
   "cell_type": "code",
   "execution_count": 69,
   "id": "a41f742a",
   "metadata": {},
   "outputs": [
    {
     "name": "stdout",
     "output_type": "stream",
     "text": [
      "1\n",
      "2\n",
      "3\n",
      "4\n",
      "5\n",
      "6\n",
      "7\n",
      "8\n",
      "9\n",
      "10\n",
      "11\n",
      "12\n"
     ]
    }
   ],
   "source": [
    "arr3 = np.array([[[1, 2, 3], [4, 5, 6]], [[7, 8, 9], [10, 11, 12]]])\n",
    "for x in arr3:\n",
    "    for y in x:\n",
    "        for z in y:\n",
    "            print(z)"
   ]
  },
  {
   "cell_type": "code",
   "execution_count": 70,
   "id": "c7567f62",
   "metadata": {},
   "outputs": [
    {
     "name": "stdout",
     "output_type": "stream",
     "text": [
      "[1 2 3]\n",
      "[4 5 6]\n",
      "[7 8 9]\n",
      "[10 11 12]\n"
     ]
    }
   ],
   "source": [
    "arr3 = np.array([[[1, 2, 3], [4, 5, 6]], [[7, 8, 9], [10, 11, 12]]])\n",
    "for x in arr3:\n",
    "    for y in x:\n",
    "            print(y)"
   ]
  },
  {
   "cell_type": "markdown",
   "id": "50372618",
   "metadata": {},
   "source": [
    "# Iterating Arrays Using - nditer()"
   ]
  },
  {
   "cell_type": "code",
   "execution_count": 71,
   "id": "ffd19d28",
   "metadata": {},
   "outputs": [
    {
     "name": "stdout",
     "output_type": "stream",
     "text": [
      "1\n",
      "2\n",
      "3\n",
      "4\n",
      "5\n",
      "6\n",
      "7\n",
      "8\n"
     ]
    }
   ],
   "source": [
    "arr = np.array([[[1, 2], [3, 4]], [[5, 6], [7, 8]]])\n",
    "for i in np.nditer(arr):\n",
    "    print(i)"
   ]
  },
  {
   "cell_type": "code",
   "execution_count": 72,
   "id": "b2d44a3e",
   "metadata": {},
   "outputs": [
    {
     "name": "stdout",
     "output_type": "stream",
     "text": [
      "1\n",
      "2\n",
      "3\n",
      "4\n",
      "5\n",
      "6\n",
      "7\n",
      "8\n",
      "9\n",
      "10\n",
      "11\n",
      "12\n"
     ]
    }
   ],
   "source": [
    "arr3 = np.array([[[1, 2, 3], [4, 5, 6]], [[7, 8, 9], [10, 11, 12]]])\n",
    "for i in np.nditer(arr3):\n",
    "    print(i)\n"
   ]
  },
  {
   "cell_type": "markdown",
   "id": "3db6d74a",
   "metadata": {},
   "source": [
    "# Iterating With Different Step Size"
   ]
  },
  {
   "cell_type": "code",
   "execution_count": 73,
   "id": "0e53641e",
   "metadata": {},
   "outputs": [
    {
     "name": "stdout",
     "output_type": "stream",
     "text": [
      "1\n",
      "3\n",
      "5\n",
      "7\n"
     ]
    }
   ],
   "source": [
    "arr = np.array([[1, 2, 3, 4], [5, 6, 7, 8]])\n",
    "for x in np.nditer(arr[:, ::2]):\n",
    "  print(x)"
   ]
  },
  {
   "cell_type": "markdown",
   "id": "9ca69208",
   "metadata": {},
   "source": [
    "# Iterating Array With Different Data Types- op_dtypes"
   ]
  },
  {
   "cell_type": "code",
   "execution_count": 74,
   "id": "cd8f6c58",
   "metadata": {},
   "outputs": [
    {
     "name": "stdout",
     "output_type": "stream",
     "text": [
      "b'1'\n",
      "b'2'\n",
      "b'3'\n"
     ]
    }
   ],
   "source": [
    "arr = np.array([1, 2, 3])\n",
    "for x in np.nditer(arr, flags=['buffered'], op_dtypes=['S']):\n",
    "  print(x)"
   ]
  },
  {
   "cell_type": "markdown",
   "id": "e612f02e",
   "metadata": {},
   "source": [
    "# Enumerated Iteration Using ndenumerate()"
   ]
  },
  {
   "cell_type": "code",
   "execution_count": 75,
   "id": "4fc44d1f",
   "metadata": {},
   "outputs": [
    {
     "name": "stdout",
     "output_type": "stream",
     "text": [
      "(0,) 1\n",
      "(1,) 2\n",
      "(2,) 3\n"
     ]
    }
   ],
   "source": [
    "arr = np.array([1, 2, 3])\n",
    "for idx, x in np.ndenumerate(arr):\n",
    "  print(idx, x)"
   ]
  },
  {
   "cell_type": "code",
   "execution_count": 76,
   "id": "5154a6d8",
   "metadata": {},
   "outputs": [
    {
     "name": "stdout",
     "output_type": "stream",
     "text": [
      "(0, 0) 1\n",
      "(0, 1) 2\n",
      "(0, 2) 3\n",
      "(0, 3) 4\n",
      "(1, 0) 5\n",
      "(1, 1) 6\n",
      "(1, 2) 7\n",
      "(1, 3) 8\n"
     ]
    }
   ],
   "source": [
    "arr = np.array([[1, 2, 3, 4], [5, 6, 7, 8]])\n",
    "for idx, x in np.ndenumerate(arr):\n",
    "  print(idx, x)"
   ]
  },
  {
   "cell_type": "markdown",
   "id": "2bc078e3",
   "metadata": {},
   "source": [
    "# 12 . Joining Arrays-concatenate()"
   ]
  },
  {
   "cell_type": "code",
   "execution_count": 77,
   "id": "2b688723",
   "metadata": {},
   "outputs": [],
   "source": [
    "#Joining means putting contents of two or more arrays in a single array."
   ]
  },
  {
   "cell_type": "markdown",
   "id": "93666f63",
   "metadata": {},
   "source": [
    "# 1d array"
   ]
  },
  {
   "cell_type": "code",
   "execution_count": 78,
   "id": "63946ed7",
   "metadata": {},
   "outputs": [
    {
     "name": "stdout",
     "output_type": "stream",
     "text": [
      "[1 2 3 4 1 2 3 0]\n"
     ]
    }
   ],
   "source": [
    "arr1=np.array([1,2,3,4])\n",
    "arr2=np.array([1,2,3,0])\n",
    "arr=np.concatenate((arr1,arr2))\n",
    "print(arr)"
   ]
  },
  {
   "cell_type": "markdown",
   "id": "90cab2e0",
   "metadata": {},
   "source": [
    "# 2d array"
   ]
  },
  {
   "cell_type": "code",
   "execution_count": 79,
   "id": "48f6a016",
   "metadata": {},
   "outputs": [
    {
     "name": "stdout",
     "output_type": "stream",
     "text": [
      "[[1 2 5 6]\n",
      " [3 4 7 8]]\n"
     ]
    }
   ],
   "source": [
    "arr1 = np.array([[1, 2], [3, 4]])\n",
    "arr2 = np.array([[5, 6], [7, 8]])\n",
    "arr = np.concatenate((arr1, arr2), axis=1)# axis 1 is making concatenate\n",
    "print(arr)"
   ]
  },
  {
   "cell_type": "markdown",
   "id": "734579d8",
   "metadata": {},
   "source": [
    "# Joining Arrays Using Stack Functions"
   ]
  },
  {
   "cell_type": "code",
   "execution_count": 80,
   "id": "58421b0b",
   "metadata": {},
   "outputs": [
    {
     "name": "stdout",
     "output_type": "stream",
     "text": [
      "[[[1 2]\n",
      "  [5 6]]\n",
      "\n",
      " [[3 4]\n",
      "  [7 8]]]\n"
     ]
    }
   ],
   "source": [
    "arr1 = np.array([[1, 2], [3, 4]])\n",
    "arr2 = np.array([[5, 6], [7, 8]])\n",
    "arr = np.stack((arr1, arr2), axis=1)# axis 1 is making concatenate\n",
    "print(arr)"
   ]
  },
  {
   "cell_type": "markdown",
   "id": "55dc4a1d",
   "metadata": {},
   "source": [
    "# Stacking Along Rows-hstack() to stack along rows"
   ]
  },
  {
   "cell_type": "code",
   "execution_count": 81,
   "id": "4e826af9",
   "metadata": {},
   "outputs": [
    {
     "name": "stdout",
     "output_type": "stream",
     "text": [
      "[1 2 3 4 5 6]\n"
     ]
    }
   ],
   "source": [
    "arr1 = np.array([1, 2, 3])\n",
    "arr2 = np.array([4, 5, 6])\n",
    "arr = np.hstack((arr1, arr2))\n",
    "print(arr)"
   ]
  },
  {
   "cell_type": "markdown",
   "id": "1cdffd6b",
   "metadata": {},
   "source": [
    "# Stacking Along Columns-vstack()  to stack along columns."
   ]
  },
  {
   "cell_type": "code",
   "execution_count": 82,
   "id": "de7daa9d",
   "metadata": {},
   "outputs": [
    {
     "name": "stdout",
     "output_type": "stream",
     "text": [
      "[[1 2 3]\n",
      " [4 5 6]]\n"
     ]
    }
   ],
   "source": [
    "arr1 = np.array([1, 2, 3])\n",
    "arr2 = np.array([4, 5, 6])\n",
    "arr = np.vstack((arr1, arr2))\n",
    "print(arr)"
   ]
  },
  {
   "cell_type": "markdown",
   "id": "37bccb85",
   "metadata": {},
   "source": [
    "# Stacking Along Height (depth)-dstack() to stack along height"
   ]
  },
  {
   "cell_type": "code",
   "execution_count": 83,
   "id": "a3cd18e7",
   "metadata": {},
   "outputs": [
    {
     "name": "stdout",
     "output_type": "stream",
     "text": [
      "[[[1 4]\n",
      "  [2 5]\n",
      "  [3 6]]]\n"
     ]
    }
   ],
   "source": [
    "arr1 = np.array([1, 2, 3])\n",
    "arr2 = np.array([4, 5, 6])\n",
    "arr = np.dstack((arr1, arr2))\n",
    "print(arr)"
   ]
  },
  {
   "cell_type": "markdown",
   "id": "0b778cb0",
   "metadata": {},
   "source": [
    "# 13.Splitting NumPy Arrays-array_split()"
   ]
  },
  {
   "cell_type": "code",
   "execution_count": 84,
   "id": "6f2b5e9a",
   "metadata": {},
   "outputs": [],
   "source": [
    "#Splitting is reverse operation of Joining.-"
   ]
  },
  {
   "cell_type": "code",
   "execution_count": 85,
   "id": "535a3ae5",
   "metadata": {},
   "outputs": [
    {
     "name": "stdout",
     "output_type": "stream",
     "text": [
      "[array([1, 2]), array([3, 4]), array([5, 6])]\n"
     ]
    }
   ],
   "source": [
    "arr = np.array([1, 2, 3, 4, 5, 6])\n",
    "newarr = np.array_split(arr, 3)# 3 is the number of arrays\n",
    "print(newarr)"
   ]
  },
  {
   "cell_type": "code",
   "execution_count": 86,
   "id": "b40ef043",
   "metadata": {},
   "outputs": [
    {
     "name": "stdout",
     "output_type": "stream",
     "text": [
      "[array([1, 2, 3]), array([4, 5, 6])]\n"
     ]
    }
   ],
   "source": [
    "arr = np.array([1, 2, 3, 4, 5, 6])\n",
    "newarr = np.array_split(arr, 2)# 2 is the number of arrays\n",
    "print(newarr)"
   ]
  },
  {
   "cell_type": "code",
   "execution_count": 87,
   "id": "8e274df3",
   "metadata": {},
   "outputs": [
    {
     "name": "stdout",
     "output_type": "stream",
     "text": [
      "[array([1, 2]), array([3, 4]), array([5]), array([6])]\n"
     ]
    }
   ],
   "source": [
    "arr = np.array([1, 2, 3, 4, 5, 6])\n",
    "newarr = np.array_split(arr, 4)\n",
    "print(newarr)"
   ]
  },
  {
   "cell_type": "code",
   "execution_count": 88,
   "id": "fb9e3f99",
   "metadata": {},
   "outputs": [
    {
     "name": "stdout",
     "output_type": "stream",
     "text": [
      "[1 2]\n",
      "[3 4]\n",
      "[5 6]\n"
     ]
    }
   ],
   "source": [
    "arr = np.array([1, 2, 3, 4, 5, 6])\n",
    "newarr = np.array_split(arr, 3)\n",
    "print(newarr[0])\n",
    "print(newarr[1])\n",
    "print(newarr[2])"
   ]
  },
  {
   "cell_type": "markdown",
   "id": "d82b8169",
   "metadata": {},
   "source": [
    "# 2d array"
   ]
  },
  {
   "cell_type": "code",
   "execution_count": 89,
   "id": "a8d80244",
   "metadata": {},
   "outputs": [
    {
     "name": "stdout",
     "output_type": "stream",
     "text": [
      "[array([[1, 2],\n",
      "       [3, 4]]), array([[5, 6],\n",
      "       [7, 8]]), array([[ 9, 10],\n",
      "       [11, 12]])]\n"
     ]
    }
   ],
   "source": [
    "arr = np.array([[1, 2], [3, 4], [5, 6], [7, 8], [9, 10], [11, 12]])\n",
    "newarr = np.array_split(arr, 3)# 3 two dim arrayas will come\n",
    "print(newarr)"
   ]
  },
  {
   "cell_type": "code",
   "execution_count": 90,
   "id": "fe35e159",
   "metadata": {},
   "outputs": [
    {
     "name": "stdout",
     "output_type": "stream",
     "text": [
      "[array([[1, 2, 3],\n",
      "       [4, 5, 6]]), array([[ 7,  8,  9],\n",
      "       [10, 11, 12]]), array([[13, 14, 15],\n",
      "       [16, 17, 18]])]\n"
     ]
    }
   ],
   "source": [
    "arr = np.array([[1, 2, 3], [4, 5, 6], [7, 8, 9], [10, 11, 12], [13, 14, 15], [16, 17, 18]])\n",
    "newarr = np.array_split(arr, 3)\n",
    "print(newarr)"
   ]
  },
  {
   "cell_type": "code",
   "execution_count": 91,
   "id": "9c665d40",
   "metadata": {},
   "outputs": [
    {
     "name": "stdout",
     "output_type": "stream",
     "text": [
      "[array([[ 1],\n",
      "       [ 4],\n",
      "       [ 7],\n",
      "       [10],\n",
      "       [13],\n",
      "       [16]]), array([[ 2],\n",
      "       [ 5],\n",
      "       [ 8],\n",
      "       [11],\n",
      "       [14],\n",
      "       [17]]), array([[ 3],\n",
      "       [ 6],\n",
      "       [ 9],\n",
      "       [12],\n",
      "       [15],\n",
      "       [18]])]\n"
     ]
    }
   ],
   "source": [
    "arr = np.array([[1, 2, 3], [4, 5, 6], [7, 8, 9], [10, 11, 12], [13, 14, 15], [16, 17, 18]])\n",
    "\n",
    "newarr = np.array_split(arr, 3,axis=1)\n",
    "\n",
    "print(newarr)"
   ]
  },
  {
   "cell_type": "markdown",
   "id": "4db235a8",
   "metadata": {},
   "source": [
    "# 14. searching arrays- where()"
   ]
  },
  {
   "cell_type": "code",
   "execution_count": 92,
   "id": "707c30a1",
   "metadata": {},
   "outputs": [
    {
     "name": "stdout",
     "output_type": "stream",
     "text": [
      "(array([3], dtype=int64),)\n"
     ]
    }
   ],
   "source": [
    "arr=np.array([1,2,3,4,5,6])\n",
    "x=np.where(arr==4)# 4 varunna index position kaanich tharum\n",
    "print(x)#Find the indexes where the value is 4:"
   ]
  },
  {
   "cell_type": "code",
   "execution_count": 93,
   "id": "fedc37e2",
   "metadata": {},
   "outputs": [
    {
     "name": "stdout",
     "output_type": "stream",
     "text": [
      "(array([1, 3, 5], dtype=int64),)\n"
     ]
    }
   ],
   "source": [
    "arr=np.array([1,2,3,4,5,6])\n",
    "x=np.where(arr%2==0)#Find the indexes where the values are even:\n",
    "print(x)"
   ]
  },
  {
   "cell_type": "code",
   "execution_count": 94,
   "id": "a1be6058",
   "metadata": {},
   "outputs": [
    {
     "name": "stdout",
     "output_type": "stream",
     "text": [
      "(array([0, 2, 4], dtype=int64),)\n"
     ]
    }
   ],
   "source": [
    "arr=np.array([1,2,3,4,5,6])\n",
    "x=np.where(arr%2==1)#Find the indexes where the values are odd:\n",
    "print(x)"
   ]
  },
  {
   "cell_type": "markdown",
   "id": "0d2e758a",
   "metadata": {},
   "source": [
    "# searchsorted()"
   ]
  },
  {
   "cell_type": "code",
   "execution_count": 95,
   "id": "420f2e45",
   "metadata": {},
   "outputs": [
    {
     "name": "stdout",
     "output_type": "stream",
     "text": [
      "1\n"
     ]
    }
   ],
   "source": [
    "arr = np.array([6, 7, 8, 9])\n",
    "x = np.searchsorted(arr, 7)# Find the indexes where the value 7 should be inserted:\n",
    "print(x)"
   ]
  },
  {
   "cell_type": "code",
   "execution_count": 96,
   "id": "a20920eb",
   "metadata": {},
   "outputs": [
    {
     "name": "stdout",
     "output_type": "stream",
     "text": [
      "2\n"
     ]
    }
   ],
   "source": [
    "arr = np.array([6, 7, 8, 9])\n",
    "x = np.searchsorted(arr, 7, side='right')#Find the indexes where the value 7 should be inserted, starting from the right:\n",
    "print(x)"
   ]
  },
  {
   "cell_type": "code",
   "execution_count": 97,
   "id": "04c9bbc2",
   "metadata": {},
   "outputs": [
    {
     "name": "stdout",
     "output_type": "stream",
     "text": [
      "[1 2 3]\n"
     ]
    }
   ],
   "source": [
    "arr = np.array([1, 3, 5, 7])\n",
    "x = np.searchsorted(arr, [2, 4, 6])#Find the indexes where the values 2, 4, and 6 should be inserted:\n",
    "print(x)"
   ]
  },
  {
   "cell_type": "markdown",
   "id": "43d0e9a6",
   "metadata": {},
   "source": [
    "# 15.Sorting Arrays-sort()"
   ]
  },
  {
   "cell_type": "code",
   "execution_count": 98,
   "id": "0c8412c5",
   "metadata": {},
   "outputs": [],
   "source": [
    "#Sorting means putting elements in an ordered sequence."
   ]
  },
  {
   "cell_type": "markdown",
   "id": "4892b8bc",
   "metadata": {},
   "source": [
    "# 1d array"
   ]
  },
  {
   "cell_type": "code",
   "execution_count": 99,
   "id": "c635dca6",
   "metadata": {},
   "outputs": [
    {
     "name": "stdout",
     "output_type": "stream",
     "text": [
      "[0 1 2 3]\n"
     ]
    }
   ],
   "source": [
    "arr = np.array([3, 2, 0, 1])\n",
    "print(np.sort(arr))# ascending order"
   ]
  },
  {
   "cell_type": "code",
   "execution_count": 100,
   "id": "164e3f0e",
   "metadata": {},
   "outputs": [
    {
     "name": "stdout",
     "output_type": "stream",
     "text": [
      "['apple' 'banana' 'cherry']\n"
     ]
    }
   ],
   "source": [
    "arr = np.array(['banana', 'cherry', 'apple'])\n",
    "print(np.sort(arr))# alphabetical order"
   ]
  },
  {
   "cell_type": "code",
   "execution_count": 101,
   "id": "a962eab2",
   "metadata": {},
   "outputs": [
    {
     "name": "stdout",
     "output_type": "stream",
     "text": [
      "[False  True  True]\n"
     ]
    }
   ],
   "source": [
    "arr = np.array([True, False, True])\n",
    "print(np.sort(arr))"
   ]
  },
  {
   "cell_type": "markdown",
   "id": "578d967f",
   "metadata": {},
   "source": [
    "# 2d array"
   ]
  },
  {
   "cell_type": "code",
   "execution_count": 102,
   "id": "87bfbb20",
   "metadata": {},
   "outputs": [
    {
     "name": "stdout",
     "output_type": "stream",
     "text": [
      "[[2 3 4]\n",
      " [0 1 5]]\n"
     ]
    }
   ],
   "source": [
    "arr = np.array([[3, 2, 4], [5, 0, 1]])\n",
    "\n",
    "print(np.sort(arr))#If you use the sort() method on a 2-D array, both arrays will be sorted"
   ]
  },
  {
   "cell_type": "markdown",
   "id": "fffffb94",
   "metadata": {},
   "source": [
    "# 16. Filtering Arrays"
   ]
  },
  {
   "cell_type": "code",
   "execution_count": 103,
   "id": "a6d54e8e",
   "metadata": {},
   "outputs": [],
   "source": [
    "# Getting some elements out of an existing array and creating a new array out of them is called filtering.\n",
    "#A boolean index list is a list of booleans corresponding to indexes in the array.\n",
    "\n",
    "#If the value at an index is True that element is contained in the filtered array,\n",
    "#if the value at that index is False that element is excluded from the filtered array."
   ]
  },
  {
   "cell_type": "code",
   "execution_count": 104,
   "id": "501b41d8",
   "metadata": {},
   "outputs": [
    {
     "name": "stdout",
     "output_type": "stream",
     "text": [
      "[41 43]\n"
     ]
    }
   ],
   "source": [
    "arr = np.array([41, 42, 43, 44])\n",
    "x = [True, False, True, False]\n",
    "newarr = arr[x]\n",
    "print(newarr)"
   ]
  },
  {
   "cell_type": "code",
   "execution_count": null,
   "id": "503fd343",
   "metadata": {},
   "outputs": [],
   "source": []
  }
 ],
 "metadata": {
  "kernelspec": {
   "display_name": "Python 3 (ipykernel)",
   "language": "python",
   "name": "python3"
  },
  "language_info": {
   "codemirror_mode": {
    "name": "ipython",
    "version": 3
   },
   "file_extension": ".py",
   "mimetype": "text/x-python",
   "name": "python",
   "nbconvert_exporter": "python",
   "pygments_lexer": "ipython3",
   "version": "3.10.9"
  }
 },
 "nbformat": 4,
 "nbformat_minor": 5
}
