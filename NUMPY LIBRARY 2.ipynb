{
 "cells": [
  {
   "cell_type": "markdown",
   "id": "857cb587",
   "metadata": {},
   "source": [
    "# 1. Random Numbers in NumPy"
   ]
  },
  {
   "cell_type": "markdown",
   "id": "c7abf706",
   "metadata": {},
   "source": [
    "# 1.1.Generate Random Number\n",
    "NumPy offers the random module to work with random numbers."
   ]
  },
  {
   "cell_type": "code",
   "execution_count": 1,
   "id": "9e419712",
   "metadata": {
    "scrolled": true
   },
   "outputs": [
    {
     "name": "stdout",
     "output_type": "stream",
     "text": [
      "69\n"
     ]
    }
   ],
   "source": [
    "from numpy import random\n",
    "x=random.randint(100)# Generate a random integer from 0 to 100:\n",
    "print(x)"
   ]
  },
  {
   "cell_type": "markdown",
   "id": "cb178a3d",
   "metadata": {},
   "source": [
    "                       # OR"
   ]
  },
  {
   "cell_type": "code",
   "execution_count": 12,
   "id": "ed94646e",
   "metadata": {},
   "outputs": [
    {
     "name": "stdout",
     "output_type": "stream",
     "text": [
      "40\n"
     ]
    }
   ],
   "source": [
    "import numpy as np\n",
    "x=np.random.randint(100)# Generate a random integer from 0 to 100:\n",
    "print(x)"
   ]
  },
  {
   "cell_type": "markdown",
   "id": "b600a3df",
   "metadata": {},
   "source": [
    "# 1.2.Generate Random Float\n",
    "The random module's rand() method returns a random float between 0 and 1."
   ]
  },
  {
   "cell_type": "code",
   "execution_count": 2,
   "id": "6ecc9e12",
   "metadata": {},
   "outputs": [
    {
     "name": "stdout",
     "output_type": "stream",
     "text": [
      "0.569292894481156\n"
     ]
    }
   ],
   "source": [
    "x=random.rand()# Generate a random float from 0 to 1\n",
    "print(x)"
   ]
  },
  {
   "cell_type": "markdown",
   "id": "71f90dfa",
   "metadata": {},
   "source": [
    "# 1.3.Generate Random Array\n",
    "In NumPy we work with arrays, and you can use the two methods from the above examples to make random arrays."
   ]
  },
  {
   "cell_type": "markdown",
   "id": "7e0ba14f",
   "metadata": {},
   "source": [
    "# a.The randint() method takes a size parameter where you can specify the shape of an array."
   ]
  },
  {
   "cell_type": "markdown",
   "id": "1c02e356",
   "metadata": {},
   "source": [
    "# 1d array\n"
   ]
  },
  {
   "cell_type": "code",
   "execution_count": 3,
   "id": "62ead1ae",
   "metadata": {},
   "outputs": [
    {
     "name": "stdout",
     "output_type": "stream",
     "text": [
      "[15 91 33 33 28]\n"
     ]
    }
   ],
   "source": [
    "x=random.randint(100,size=(5))# Generate a 1-D array containing 5 random integers from 0 to 100:\n",
    "print(x)"
   ]
  },
  {
   "cell_type": "markdown",
   "id": "386a33e5",
   "metadata": {},
   "source": [
    "# 2d array\n"
   ]
  },
  {
   "cell_type": "code",
   "execution_count": 4,
   "id": "a0c3e63d",
   "metadata": {},
   "outputs": [
    {
     "name": "stdout",
     "output_type": "stream",
     "text": [
      "[[62 43  7 54 14]\n",
      " [ 7 91 81 97 13]\n",
      " [74 57 89 98 51]]\n"
     ]
    }
   ],
   "source": [
    "x=random.randint(100,size=(3,5))# Generate a 2-D array with 3 rows, each row containing 5 random integers from 0 to 100:\n",
    "print(x)"
   ]
  },
  {
   "cell_type": "markdown",
   "id": "06b83e69",
   "metadata": {},
   "source": [
    "# b.The rand() method also allows you to specify the shape of the array.-float between 0 to 1"
   ]
  },
  {
   "cell_type": "markdown",
   "id": "10a0e058",
   "metadata": {},
   "source": [
    "# 1d array\n"
   ]
  },
  {
   "cell_type": "code",
   "execution_count": 6,
   "id": "02cd1196",
   "metadata": {},
   "outputs": [
    {
     "name": "stdout",
     "output_type": "stream",
     "text": [
      "[0.28947067 0.89470369 0.03450226 0.81886901 0.72570204]\n"
     ]
    }
   ],
   "source": [
    "x=random.rand(5) # Generate a 1-D array containing 5 random floats:\n",
    "print(x)"
   ]
  },
  {
   "cell_type": "markdown",
   "id": "7fc7018a",
   "metadata": {},
   "source": [
    "# 2d array\n"
   ]
  },
  {
   "cell_type": "code",
   "execution_count": 7,
   "id": "d1e7cc02",
   "metadata": {},
   "outputs": [
    {
     "name": "stdout",
     "output_type": "stream",
     "text": [
      "[[0.55088973 0.91704421 0.94560631 0.12171904 0.19417207]\n",
      " [0.16688892 0.49654648 0.54319342 0.55350222 0.57224009]\n",
      " [0.34157329 0.53509685 0.08481982 0.2784112  0.06968245]]\n"
     ]
    }
   ],
   "source": [
    "x=random.rand(3,5)# Generate a 2-D array with 3 rows, each row containing 5 random numbers:\n",
    "print(x)"
   ]
  },
  {
   "cell_type": "markdown",
   "id": "6745cf9a",
   "metadata": {},
   "source": [
    "# 1.4 .Generate Random Number From Array\n",
    "The choice() method allows you to generate a random value based on an array of values.\n",
    "The choice() method takes an array as a parameter and randomly returns one of the values."
   ]
  },
  {
   "cell_type": "code",
   "execution_count": 8,
   "id": "ce82cfb6",
   "metadata": {},
   "outputs": [
    {
     "name": "stdout",
     "output_type": "stream",
     "text": [
      "3\n"
     ]
    }
   ],
   "source": [
    "x = random.choice([3, 5, 7, 9])\n",
    "print(x)"
   ]
  },
  {
   "cell_type": "code",
   "execution_count": 9,
   "id": "5e49c5f2",
   "metadata": {},
   "outputs": [
    {
     "name": "stdout",
     "output_type": "stream",
     "text": [
      "9\n"
     ]
    }
   ],
   "source": [
    "x = random.choice([3, 5, 7, 9])\n",
    "print(x)"
   ]
  },
  {
   "cell_type": "markdown",
   "id": "70106fba",
   "metadata": {},
   "source": [
    "# 1.4.1.The choice() method also allows you to return an array of values.\n",
    "Add a size parameter to specify the shape of the array."
   ]
  },
  {
   "cell_type": "code",
   "execution_count": 23,
   "id": "4f700e6d",
   "metadata": {},
   "outputs": [
    {
     "name": "stdout",
     "output_type": "stream",
     "text": [
      "[3 9 9 9 7 7 5 7 9 9 7 7 7 3 5 3 7 3 9 9 7 3 9 7 3 3 9 3 5 5 3 7 7 5 3 5 7\n",
      " 7 3 9 3 7 9 3 3 3 5 3 9 3 7 5 9 9 5 3 3 5 7 7 5 3 3 9 5 9 9 9 9 7 3 5 3 9\n",
      " 3 5 7 9 7 9 9 9 7 9 3 3 5 9 7 7 3 7 3 3 9 3 7 5 3 3]\n"
     ]
    }
   ],
   "source": [
    "#Generate a 1-D array that consists of 100 values\n",
    "x = random.choice([3, 5, 7, 9],size=100)\n",
    "print(x)"
   ]
  },
  {
   "cell_type": "code",
   "execution_count": 11,
   "id": "93ff617e",
   "metadata": {
    "scrolled": true
   },
   "outputs": [
    {
     "name": "stdout",
     "output_type": "stream",
     "text": [
      "[[5 5 3 5 5]\n",
      " [5 5 3 3 3]\n",
      " [9 9 5 9 9]]\n"
     ]
    }
   ],
   "source": [
    "#Generate a 2-D array that consists of the values in the array parameter (3, 5, 7, and 9):\n",
    "x = random.choice([3, 5, 7, 9],size=(3,5))\n",
    "print(x)"
   ]
  },
  {
   "cell_type": "markdown",
   "id": "98566c44",
   "metadata": {},
   "source": [
    "# 2. Random Data Distribution"
   ]
  },
  {
   "cell_type": "markdown",
   "id": "66d09c18",
   "metadata": {},
   "source": [
    "# Data distribution\n",
    "Data Distribution is a list of all possible values, and how often each value occurs.\n",
    "Such lists are important when working with statistics and data science.\n",
    "The random module offer methods that returns randomly generated data distributions."
   ]
  },
  {
   "cell_type": "markdown",
   "id": "9d430886",
   "metadata": {},
   "source": [
    "# Random Distribution\n",
    "A random distribution is a set of random numbers that follow a certain probability density function.\n",
    "Probability Density Function: A function that describes a continuous probability. i.e. probability of all values in an array."
   ]
  },
  {
   "cell_type": "markdown",
   "id": "ebf87220",
   "metadata": {},
   "source": [
    "We can generate random numbers based on defined probabilities using the choice() method of the random module.\n",
    "\n",
    "The choice() method allows us to specify the probability for each value.\n",
    "\n",
    "The probability is set by a number between 0 and 1, where 0 means that the value will never occur and 1 means that the value will always occur."
   ]
  },
  {
   "cell_type": "markdown",
   "id": "3c78bd8c",
   "metadata": {},
   "source": [
    "# 1d array"
   ]
  },
  {
   "cell_type": "code",
   "execution_count": 25,
   "id": "70c18e0a",
   "metadata": {},
   "outputs": [
    {
     "name": "stdout",
     "output_type": "stream",
     "text": [
      "[6 7 7 6 6 6 6 6 6 7 4 7 7 4 7 4 7 6 4 7 4 7 7 7 7 7 7 6 7 7 7 7 7 7 7 6 7\n",
      " 7 7 6 6 6 7 4 6 6 7 4 4 6 4 7 7 7 7 6 7 7 4 7 7 4 7 7 6 7 7 4 7 7 4 6 7 4\n",
      " 7 4 4 4 7 6 4 4 6 4 7 7 7 6 4 7 7 7 4 6 6 7 4 6 4 7]\n"
     ]
    }
   ],
   "source": [
    "x=np.random.choice([4,6,7,1],p=[0.2,0.3,0.5,0.0],size=100)\n",
    "print(x)\n",
    "\n",
    "# Generate a 1-D array containing 100 values, where each value has to be 4, 6, 7 or 1.\n",
    "\n",
    "# The probability for the value to be 4 is set to be 0.2\n",
    "\n",
    "# The probability for the value to be 6 is set to be 0.3\n",
    "\n",
    "# The probability for the value to be 7 is set to be 0.5\n",
    "\n",
    "# The probability for the value to be 1 is set to be 0\n",
    "\n",
    "# The sum of all probability numbers should be 1."
   ]
  },
  {
   "cell_type": "markdown",
   "id": "7b1adf09",
   "metadata": {},
   "source": [
    "# 2d array"
   ]
  },
  {
   "cell_type": "code",
   "execution_count": 28,
   "id": "52f3bbcc",
   "metadata": {},
   "outputs": [
    {
     "name": "stdout",
     "output_type": "stream",
     "text": [
      "[[6 7 6 7]\n",
      " [4 6 7 7]]\n"
     ]
    }
   ],
   "source": [
    "x=np.random.choice([4,6,7,1],p=[0.2,0.2,0.5,0.1],size=(2,4))\n",
    "print(x)\n",
    "#Same example as above, but return a 2-D array with 2 rows, each containing 4 values."
   ]
  },
  {
   "cell_type": "markdown",
   "id": "472bce39",
   "metadata": {},
   "source": [
    "# 3. Random Permutations"
   ]
  },
  {
   "cell_type": "markdown",
   "id": "c5949f90",
   "metadata": {},
   "source": [
    "# Random Permutations of Elements\n",
    "A permutation refers to an arrangement of elements. e.g. [3, 2, 1] is a permutation of [1, 2, 3] and vice-versa.\n",
    "\n",
    "The NumPy Random module provides two methods for this: shuffle() and permutation()."
   ]
  },
  {
   "cell_type": "markdown",
   "id": "45a4d8c7",
   "metadata": {},
   "source": [
    "# 3.1. Shuffling Arrays\n",
    "Shuffle means changing arrangement of elements in-place. i.e. in the array itself."
   ]
  },
  {
   "cell_type": "code",
   "execution_count": 41,
   "id": "dba78e29",
   "metadata": {},
   "outputs": [
    {
     "name": "stdout",
     "output_type": "stream",
     "text": [
      "None\n",
      "[1 5 4 2 3]\n"
     ]
    }
   ],
   "source": [
    "arr=np.array([1,2,3,4,5])\n",
    "print(random.shuffle(arr))\n",
    "print(arr)\n",
    "#The shuffle() method makes changes to the original array."
   ]
  },
  {
   "cell_type": "markdown",
   "id": "bb2eb70b",
   "metadata": {},
   "source": [
    "# 3.2.Generating Permutation of Arrays"
   ]
  },
  {
   "cell_type": "code",
   "execution_count": 38,
   "id": "13dd7e90",
   "metadata": {},
   "outputs": [
    {
     "name": "stdout",
     "output_type": "stream",
     "text": [
      "[4 3 5 1 2]\n",
      "[1 2 3 4 5]\n"
     ]
    }
   ],
   "source": [
    "arr=np.array([1,2,3,4,5])\n",
    "\n",
    "print(random.permutation(arr))\n",
    "print(arr)\n",
    "# The permutation() method returns a re-arranged array (and leaves the original array un-changed)."
   ]
  },
  {
   "cell_type": "markdown",
   "id": "92439e4d",
   "metadata": {},
   "source": [
    "# 4. seaborn module\n",
    "Seaborn is a library that uses Matplotlib underneath to plot graphs. It will be used to visualize random distributions."
   ]
  },
  {
   "cell_type": "markdown",
   "id": "93651c46",
   "metadata": {},
   "source": [
    "# Import Seaborn"
   ]
  },
  {
   "cell_type": "code",
   "execution_count": 45,
   "id": "43394ea6",
   "metadata": {},
   "outputs": [],
   "source": [
    "import matplotlib.pyplot as plt\n",
    "import seaborn as sns"
   ]
  },
  {
   "cell_type": "markdown",
   "id": "69aa0850",
   "metadata": {},
   "source": [
    "# Plotting a Distplot\n",
    "We will be using: sns.distplot(arr, hist=False) to visualize random distributions"
   ]
  },
  {
   "cell_type": "code",
   "execution_count": 53,
   "id": "675b9c03",
   "metadata": {},
   "outputs": [
    {
     "name": "stderr",
     "output_type": "stream",
     "text": [
      "C:\\Users\\HP\\AppData\\Local\\Temp\\ipykernel_13236\\230963844.py:1: UserWarning: \n",
      "\n",
      "`distplot` is a deprecated function and will be removed in seaborn v0.14.0.\n",
      "\n",
      "Please adapt your code to use either `displot` (a figure-level function with\n",
      "similar flexibility) or `histplot` (an axes-level function for histograms).\n",
      "\n",
      "For a guide to updating your code to use the new functions, please see\n",
      "https://gist.github.com/mwaskom/de44147ed2974457ad6372750bbe5751\n",
      "\n",
      "  sns.distplot([0,1,2,3,4,5])\n"
     ]
    },
    {
     "data": {
      "image/png": "[encoded data removed]",
      "text/plain": [
       "<Figure size 640x480 with 1 Axes>"
      ]
     },
     "metadata": {},
     "output_type": "display_data"
    }
   ],
   "source": [
    "sns.distplot([0,1,2,3,4,5])\n",
    "plt.show()"
   ]
  },
  {
   "cell_type": "code",
   "execution_count": 50,
   "id": "1f6109ac",
   "metadata": {},
   "outputs": [
    {
     "name": "stderr",
     "output_type": "stream",
     "text": [
      "C:\\Users\\HP\\AppData\\Local\\Temp\\ipykernel_13236\\299229084.py:1: UserWarning: \n",
      "\n",
      "`distplot` is a deprecated function and will be removed in seaborn v0.14.0.\n",
      "\n",
      "Please adapt your code to use either `displot` (a figure-level function with\n",
      "similar flexibility) or `kdeplot` (an axes-level function for kernel density plots).\n",
      "\n",
      "For a guide to updating your code to use the new functions, please see\n",
      "https://gist.github.com/mwaskom/de44147ed2974457ad6372750bbe5751\n",
      "\n",
      "  sns.distplot([0,1,2,3,4,5],hist=False)\n"
     ]
    },
    {
     "data": {
      "image/png": "[encoded data removed]",
      "text/plain": [
       "<Figure size 640x480 with 1 Axes>"
      ]
     },
     "metadata": {},
     "output_type": "display_data"
    }
   ],
   "source": [
    "sns.distplot([0,1,2,3,4,5],hist=False)\n",
    "plt.show()"
   ]
  },
  {
   "cell_type": "markdown",
   "id": "2637a4d5",
   "metadata": {},
   "source": [
    "# 5. Normal (Gaussian) Distribution\n",
    "The Normal Distribution is one of the most important distributions.\n",
    "\n",
    "It is also called the Gaussian Distribution after the German mathematician Carl Friedrich Gauss.\n",
    "\n",
    "It fits the probability distribution of many events, eg. IQ Scores, Heartbeat etc.\n",
    "\n",
    "Use the random.normal() method to get a Normal Data Distribution.\n",
    "\n",
    "It has three parameters:\n",
    "\n",
    "loc - (Mean) where the peak of the bell exists.\n",
    "\n",
    "scale - (Standard Deviation) how flat the graph distribution should be.\n",
    "\n",
    "size - The shape of the returned array."
   ]
  },
  {
   "cell_type": "code",
   "execution_count": 54,
   "id": "57ab301e",
   "metadata": {},
   "outputs": [
    {
     "name": "stdout",
     "output_type": "stream",
     "text": [
      "[[-1.66878343  0.86185178 -0.26439566]\n",
      " [-0.33560404  0.81354616  1.20038112]]\n"
     ]
    }
   ],
   "source": [
    "x=np.random.normal(size=(2,3))# Generate a random normal distribution of size 2x3\n",
    "print(x)"
   ]
  },
  {
   "cell_type": "code",
   "execution_count": 56,
   "id": "4a4f0635",
   "metadata": {},
   "outputs": [
    {
     "name": "stdout",
     "output_type": "stream",
     "text": [
      "[-0.54132852  0.27013692  1.00405196  0.65299034  0.27698753  0.02080727\n",
      " -0.76694967 -0.52086064 -0.21248722  1.94326664 -1.18671127 -0.66211431\n",
      " -0.6810625  -0.15890822  0.52963723  0.24268906 -0.36932933  0.89533335\n",
      " -1.98394302 -0.34175659  1.00521685  1.0834416  -2.01709154 -0.38416443\n",
      " -2.03195783  0.72326478 -0.96885457 -0.65934076 -1.021771    0.75546222\n",
      "  1.1031857  -0.20572478 -1.31926722 -0.30743429 -0.15560449 -0.78807395\n",
      "  0.97994429 -0.28265176  0.71363079 -1.65350466 -0.05277983 -0.148507\n",
      " -0.38188493  0.06699486  0.26053271  0.18870644 -0.84014666  1.11285124\n",
      " -0.26696161  0.04278131  2.1016661  -0.47512723  0.27908111  0.91216753\n",
      " -0.06591053 -0.83817545 -0.46247626 -0.16251572 -0.18983778  0.1154274\n",
      "  0.44893064 -0.31501581 -0.96877206  0.68627976  0.49467405  0.93340034\n",
      " -0.09788662  1.52990289 -0.52428114  0.0535623   0.49711178  1.2663429\n",
      " -0.60356446 -0.2355142   1.48791041  0.8575062   1.92644366  0.96992203\n",
      " -0.0161742  -1.1845852  -0.38714548 -1.28300021  2.01376602  1.10688911\n",
      " -1.38541304 -0.28566546  1.3963276  -0.20028972  0.66049607 -0.6453707\n",
      " -1.90003683  0.54371263  0.29321892  0.45756548 -1.00084257  0.0145009\n",
      "  0.34341185  1.03868532 -0.14861915 -0.24040772]\n"
     ]
    }
   ],
   "source": [
    "x=np.random.normal(size=100)# Generate a random normal distribution of size 100\n",
    "print(x)"
   ]
  },
  {
   "cell_type": "code",
   "execution_count": 57,
   "id": "9f94d54d",
   "metadata": {},
   "outputs": [
    {
     "name": "stdout",
     "output_type": "stream",
     "text": [
      "[[ 0.39637806  1.40989295  0.01328172]\n",
      " [-4.63641453 -1.08978513 -1.05428527]]\n"
     ]
    }
   ],
   "source": [
    "x=np.random.normal(loc=1,scale=2,size=(2,3))\n",
    "print(x)\n",
    "# Generate a random normal distribution of size 2x3 with mean at 1 and standard deviation of 2"
   ]
  },
  {
   "cell_type": "markdown",
   "id": "194abd51",
   "metadata": {},
   "source": [
    "# Visualization of Normal Distribution"
   ]
  },
  {
   "cell_type": "code",
   "execution_count": 58,
   "id": "7e5fb2c4",
   "metadata": {},
   "outputs": [
    {
     "name": "stderr",
     "output_type": "stream",
     "text": [
      "C:\\Users\\HP\\AppData\\Local\\Temp\\ipykernel_13236\\820716418.py:2: UserWarning: \n",
      "\n",
      "`distplot` is a deprecated function and will be removed in seaborn v0.14.0.\n",
      "\n",
      "Please adapt your code to use either `displot` (a figure-level function with\n",
      "similar flexibility) or `kdeplot` (an axes-level function for kernel density plots).\n",
      "\n",
      "For a guide to updating your code to use the new functions, please see\n",
      "https://gist.github.com/mwaskom/de44147ed2974457ad6372750bbe5751\n",
      "\n",
      "  sns.distplot(x,hist=False)\n"
     ]
    },
    {
     "data": {
      "image/png": "[encoded data removed]",
      "text/plain": [
       "<Figure size 640x480 with 1 Axes>"
      ]
     },
     "metadata": {},
     "output_type": "display_data"
    }
   ],
   "source": [
    "x=np.random.normal(loc=1,scale=2,size=(2,3))\n",
    "sns.distplot(x,hist=False)\n",
    "plt.show()"
   ]
  },
  {
   "cell_type": "code",
   "execution_count": 59,
   "id": "c95dcedd",
   "metadata": {},
   "outputs": [
    {
     "name": "stderr",
     "output_type": "stream",
     "text": [
      "C:\\Users\\HP\\AppData\\Local\\Temp\\ipykernel_13236\\4119326688.py:1: UserWarning: \n",
      "\n",
      "`distplot` is a deprecated function and will be removed in seaborn v0.14.0.\n",
      "\n",
      "Please adapt your code to use either `displot` (a figure-level function with\n",
      "similar flexibility) or `kdeplot` (an axes-level function for kernel density plots).\n",
      "\n",
      "For a guide to updating your code to use the new functions, please see\n",
      "https://gist.github.com/mwaskom/de44147ed2974457ad6372750bbe5751\n",
      "\n",
      "  sns.distplot(random.normal(size=1000), hist=False)\n"
     ]
    },
    {
     "data": {
      "image/png": "[encoded data removed]",
      "text/plain": [
       "<Figure size 640x480 with 1 Axes>"
      ]
     },
     "metadata": {},
     "output_type": "display_data"
    }
   ],
   "source": [
    "sns.distplot(random.normal(size=1000), hist=False)\n",
    "\n",
    "plt.show()"
   ]
  },
  {
   "cell_type": "code",
   "execution_count": null,
   "id": "e9019170",
   "metadata": {},
   "outputs": [],
   "source": []
  }
 ],
 "metadata": {
  "kernelspec": {
   "display_name": "Python 3 (ipykernel)",
   "language": "python",
   "name": "python3"
  },
  "language_info": {
   "codemirror_mode": {
    "name": "ipython",
    "version": 3
   },
   "file_extension": ".py",
   "mimetype": "text/x-python",
   "name": "python",
   "nbconvert_exporter": "python",
   "pygments_lexer": "ipython3",
   "version": "3.10.9"
  }
 },
 "nbformat": 4,
 "nbformat_minor": 5
}
